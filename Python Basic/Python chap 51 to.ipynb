{
 "cells": [
  {
   "cell_type": "markdown",
   "id": "03613883",
   "metadata": {},
   "source": [
    "# While loops"
   ]
  },
  {
   "cell_type": "code",
   "execution_count": null,
   "id": "5e98ec8f",
   "metadata": {},
   "outputs": [
    {
     "name": "stdout",
     "output_type": "stream",
     "text": [
      "Enter a city, or q to quit:iran\n",
      "Enter a city, or q to quit:karachi\n",
      "It's one of the cleanest cities\n",
      "Enter a city, or q to quit:iran\n"
     ]
    }
   ],
   "source": [
    "cleanest_cities = [\"Cheyenne\", \"Santa Fe\", \"Tucson\",\"Great Falls\", \"Honolulu\", \"karachi\"]\n",
    "\n",
    "\n",
    "user_input = \"\"\n",
    "while user_input != \"q\":\n",
    "    user_input = input(\"Enter a city, or q to quit:\")\n",
    "    if user_input != \"q\":\n",
    "        for a_clean_city in cleanest_cities:\n",
    "            if user_input == a_clean_city:\n",
    "                print(\"It's one of the cleanest cities\")\n",
    "                break\n",
    "\n",
    "                "
   ]
  },
  {
   "cell_type": "code",
   "execution_count": 2,
   "id": "d72f39e3",
   "metadata": {},
   "outputs": [
    {
     "name": "stdout",
     "output_type": "stream",
     "text": [
      "Enter a city, or q to quit:karachi\n"
     ]
    },
    {
     "ename": "NameError",
     "evalue": "name 'a_clean_city' is not defined",
     "output_type": "error",
     "traceback": [
      "\u001b[1;31m---------------------------------------------------------------------------\u001b[0m",
      "\u001b[1;31mNameError\u001b[0m                                 Traceback (most recent call last)",
      "Input \u001b[1;32mIn [2]\u001b[0m, in \u001b[0;36m<cell line: 6>\u001b[1;34m()\u001b[0m\n\u001b[0;32m      7\u001b[0m user_input \u001b[38;5;241m=\u001b[39m \u001b[38;5;28minput\u001b[39m(\u001b[38;5;124m\"\u001b[39m\u001b[38;5;124mEnter a city, or q to quit:\u001b[39m\u001b[38;5;124m\"\u001b[39m)\n\u001b[0;32m      8\u001b[0m \u001b[38;5;28;01mif\u001b[39;00m user_input \u001b[38;5;241m!=\u001b[39m \u001b[38;5;124m\"\u001b[39m\u001b[38;5;124mq\u001b[39m\u001b[38;5;124m\"\u001b[39m:\n\u001b[1;32m----> 9\u001b[0m     \u001b[38;5;28;01mwhile\u001b[39;00m \u001b[43ma_clean_city\u001b[49m \u001b[38;5;129;01min\u001b[39;00m cleanest_cities:\n\u001b[0;32m     10\u001b[0m         \u001b[38;5;28;01mif\u001b[39;00m user_input \u001b[38;5;241m==\u001b[39m a_clean_city:\n\u001b[0;32m     11\u001b[0m             \u001b[38;5;28mprint\u001b[39m(\u001b[38;5;124m\"\u001b[39m\u001b[38;5;124mIt\u001b[39m\u001b[38;5;124m'\u001b[39m\u001b[38;5;124ms one of the cleanest cities\u001b[39m\u001b[38;5;124m\"\u001b[39m)\n",
      "\u001b[1;31mNameError\u001b[0m: name 'a_clean_city' is not defined"
     ]
    }
   ],
   "source": [
    "cleanest_cities = [\"Cheyenne\", \"Santa Fe\", \"Tucson\",\n",
    "\"Great Falls\", \"Honolulu\", \"karachi\"]\n",
    "\n",
    "\n",
    "user_input = \"\"\n",
    "while user_input != \"q\":\n",
    "    user_input = input(\"Enter a city, or q to quit:\")\n",
    "    if user_input != \"q\":\n",
    "        while a_clean_city in cleanest_cities:\n",
    "            if user_input == a_clean_city:\n",
    "                print(\"It's one of the cleanest cities\")\n",
    "                break\n",
    "\n",
    "                # not working"
   ]
  },
  {
   "cell_type": "code",
   "execution_count": null,
   "id": "abbc0392",
   "metadata": {},
   "outputs": [],
   "source": [
    "cleanest_cities = [\"Cheyenne\", \"Santa Fe\", \"Tucson\", \"Great Falls\", \"Honolulu\", \"karachi\"]\n",
    "user = input(\"enter city name\")\n",
    "\n",
    "index = 0\n",
    "while index < len(cleanest_cities):\n",
    "    city = cleanest_cities[index]\n",
    "    if user == city:\n",
    "        print(city, \"is one of the cleanest city\", \"at the location\", index)\n",
    "        index += 1 # increment is required\n",
    " \n",
    "    \n",
    "# for index, city in enumerate(cleanest_cities):\n",
    "#     if user == city:\n",
    "#         print(city, \"is one of the cleanest city\", \"at the location\", index)\n",
    "#         index +=1"
   ]
  },
  {
   "cell_type": "markdown",
   "id": "24eefa63",
   "metadata": {},
   "source": [
    "### While loops: Setting a flag"
   ]
  },
  {
   "cell_type": "code",
   "execution_count": 1,
   "id": "74b453ff",
   "metadata": {},
   "outputs": [
    {
     "name": "stdout",
     "output_type": "stream",
     "text": [
      "enter city namekarachi\n",
      "Enter a city, or q to quit:Tucson\n",
      "It's one of the cleanest cities\n",
      "Enter a city, or q to quit:q\n"
     ]
    }
   ],
   "source": [
    "cleanest_cities = [\"Cheyenne\", \"Santa Fe\", \"Tucson\", \"Great Falls\", \"Honolulu\", \"karachi\"]\n",
    "user = input(\"enter city name\")\n",
    "\n",
    "keep_looping = True\n",
    "while keep_looping == True:\n",
    "    user_input = input(\"Enter a city, or q to quit:\")\n",
    "    if user_input != \"q\":\n",
    "        for a_clean_city in cleanest_cities:\n",
    "            if user_input == a_clean_city:\n",
    "                print(\"It's one of the cleanest cities\")\n",
    "                break\n",
    "                \n",
    "    else:\n",
    "        keep_looping = False"
   ]
  },
  {
   "cell_type": "code",
   "execution_count": 4,
   "id": "cb0edc47",
   "metadata": {},
   "outputs": [
    {
     "ename": "IndentationError",
     "evalue": "expected an indented block (83521836.py, line 6)",
     "output_type": "error",
     "traceback": [
      "\u001b[1;36m  Input \u001b[1;32mIn [4]\u001b[1;36m\u001b[0m\n\u001b[1;33m    user_input = input(\"Enter a city, or q to quit:\")\u001b[0m\n\u001b[1;37m    ^\u001b[0m\n\u001b[1;31mIndentationError\u001b[0m\u001b[1;31m:\u001b[0m expected an indented block\n"
     ]
    }
   ],
   "source": [
    "cleanest_cities = [\"Cheyenne\", \"Santa Fe\", \"Tucson\", \"Great Falls\", \"Honolulu\", \"karachi\"]\n",
    "user = input(\"enter city name\")\n",
    "\n",
    "keep_looping = True\n",
    "while keep_looping == True:\n",
    "user_input = input(\"Enter a city, or q to quit:\")\n",
    "if user_input != \"q\":\n",
    "    for a_clean_city in cleanest_cities:\n",
    "        if user_input == a_clean_city:\n",
    "            print(\"It's one of the cleanest cities\")\n",
    "            keep_looping = False\n",
    "            break    \n",
    "        if keep_looping:\n",
    "            print(\"not found\")\n",
    "            break\n",
    "        "
   ]
  },
  {
   "cell_type": "code",
   "execution_count": 7,
   "id": "c323894c",
   "metadata": {},
   "outputs": [
    {
     "name": "stdout",
     "output_type": "stream",
     "text": [
      "enter city nameTucson\n",
      "Enter a city, or q to quit:Tucson\n",
      "not found\n"
     ]
    }
   ],
   "source": [
    "cleanest_cities = [\"Cheyenne\", \"Santa Fe\", \"Tucson\", \"Great Falls\", \"Honolulu\", \"karachi\"]\n",
    "user = input(\"enter city name\")\n",
    "\n",
    "keep_looping = True\n",
    "# while keep_looping == True:\n",
    "user_input = input(\"Enter a city, or q to quit:\")\n",
    "if user_input != \"q\":\n",
    "    for a_clean_city in cleanest_cities:\n",
    "        if user_input == a_clean_city:\n",
    "            print(\"It's one of the cleanest cities\")\n",
    "            keep_looping = False\n",
    "            break    \n",
    "        if keep_looping:\n",
    "            print(\"not found\")\n",
    "            break\n",
    "        "
   ]
  },
  {
   "cell_type": "code",
   "execution_count": 8,
   "id": "9594a1bf",
   "metadata": {},
   "outputs": [
    {
     "name": "stdout",
     "output_type": "stream",
     "text": [
      "City Nameiran\n",
      "not found\n"
     ]
    }
   ],
   "source": [
    "cleanest_cities = [\"karachi\", \"multan\", \"lahore\", \"islamabad\"]\n",
    "user = input(\"City Name\")\n",
    "if user in cleanest_cities:\n",
    "    print(\" one of clenest city\")\n",
    "    \n",
    "if user != cleanest_cities:\n",
    "    print(\"not found\")"
   ]
  },
  {
   "cell_type": "code",
   "execution_count": null,
   "id": "677c945a",
   "metadata": {},
   "outputs": [],
   "source": []
  },
  {
   "cell_type": "code",
   "execution_count": null,
   "id": "7b2a4c1c",
   "metadata": {},
   "outputs": [],
   "source": []
  },
  {
   "cell_type": "code",
   "execution_count": null,
   "id": "05c8b532",
   "metadata": {},
   "outputs": [],
   "source": []
  },
  {
   "cell_type": "code",
   "execution_count": null,
   "id": "f0e3ab3d",
   "metadata": {},
   "outputs": [],
   "source": []
  },
  {
   "cell_type": "markdown",
   "id": "62c103b5",
   "metadata": {},
   "source": [
    "# Classes"
   ]
  },
  {
   "cell_type": "code",
   "execution_count": 13,
   "id": "a4be531c",
   "metadata": {},
   "outputs": [
    {
     "name": "stdout",
     "output_type": "stream",
     "text": [
      "Waqar Un Nabi\n",
      "<class '__main__.Patient'>\n"
     ]
    }
   ],
   "source": [
    "class Patient():\n",
    "    def __init__(self, last_name):\n",
    "        self.last_name = last_name\n",
    "        print(self.last_name)\n",
    "        \n",
    "my_name = Patient(\"Waqar Un Nabi\")\n",
    "print(type(my_name))"
   ]
  },
  {
   "cell_type": "code",
   "execution_count": 19,
   "id": "584fbfc3",
   "metadata": {},
   "outputs": [
    {
     "name": "stdout",
     "output_type": "stream",
     "text": [
      "Waqar Un Nabi Syed 22\n"
     ]
    }
   ],
   "source": [
    "class Patient():\n",
    "    def __init__(self, last_name, first_name, age):\n",
    "        self.last_name = last_name\n",
    "        self.first_name = first_name\n",
    "        self.age = age\n",
    "        print(self.last_name, self.first_name, age)\n",
    "        \n",
    "my_name = Patient(\"Waqar Un Nabi\", \"Syed\", 22)"
   ]
  },
  {
   "cell_type": "code",
   "execution_count": 18,
   "id": "cdd9471f",
   "metadata": {},
   "outputs": [
    {
     "name": "stdout",
     "output_type": "stream",
     "text": [
      "22 30 35\n"
     ]
    }
   ],
   "source": [
    "class Patient():\n",
    "    def __init__(self, last_name, first_name, age):\n",
    "        self.last_name = last_name\n",
    "        self.first_name = first_name\n",
    "        self.age = age\n",
    "#         print(self.last_name, self.first_name, age)\n",
    "        \n",
    "val1 = Patient(\"Waqar Un Nabi\", \"Syed\", 22)\n",
    "val2 = Patient(\"Khan\", \"Salman\", 30)\n",
    "val3 = Patient(\"Ali\", \"Hassan\", 35)\n",
    "\n",
    "print(val1.age,val2.age, val3.age)"
   ]
  },
  {
   "cell_type": "code",
   "execution_count": 4,
   "id": "11a35540",
   "metadata": {},
   "outputs": [
    {
     "name": "stdout",
     "output_type": "stream",
     "text": [
      "35\n"
     ]
    }
   ],
   "source": [
    "class Patient():\n",
    "    def __init__(self, last_name, first_name, age):\n",
    "        self.last_name = last_name\n",
    "        self.first_name = first_name\n",
    "        self.age = age\n",
    "#         print(self.last_name, self.first_name, age)\n",
    "        \n",
    "val1 = Patient(\"Waqar Un Nabi\", \"Syed\", 22)\n",
    "val2 = Patient(\"Khan\", \"Salman\", 30)\n",
    "val3 = Patient(\"Ali\", \"Hassan\", 35)\n",
    "\n",
    "arr1=[val1.age,val2.age, val3.age]\n",
    "pat_max_age = max(arr1)\n",
    "print(pat_max_age)"
   ]
  },
  {
   "cell_type": "code",
   "execution_count": 20,
   "id": "3795ecd2",
   "metadata": {},
   "outputs": [
    {
     "name": "stdout",
     "output_type": "stream",
     "text": [
      "22 30 35\n"
     ]
    },
    {
     "ename": "NameError",
     "evalue": "name 'patient_age' is not defined",
     "output_type": "error",
     "traceback": [
      "\u001b[1;31m---------------------------------------------------------------------------\u001b[0m",
      "\u001b[1;31mNameError\u001b[0m                                 Traceback (most recent call last)",
      "Input \u001b[1;32mIn [20]\u001b[0m, in \u001b[0;36m<cell line: 13>\u001b[1;34m()\u001b[0m\n\u001b[0;32m     10\u001b[0m val3 \u001b[38;5;241m=\u001b[39m Patient(\u001b[38;5;124m\"\u001b[39m\u001b[38;5;124mAli\u001b[39m\u001b[38;5;124m\"\u001b[39m, \u001b[38;5;124m\"\u001b[39m\u001b[38;5;124mHassan\u001b[39m\u001b[38;5;124m\"\u001b[39m, \u001b[38;5;241m35\u001b[39m)\n\u001b[0;32m     12\u001b[0m \u001b[38;5;28mprint\u001b[39m(val1\u001b[38;5;241m.\u001b[39mage,val2\u001b[38;5;241m.\u001b[39mage, val3\u001b[38;5;241m.\u001b[39mage)\n\u001b[1;32m---> 13\u001b[0m max_age \u001b[38;5;241m=\u001b[39m \u001b[38;5;28mmax\u001b[39m(\u001b[43mpatient_age\u001b[49m)\n\u001b[0;32m     14\u001b[0m location \u001b[38;5;241m=\u001b[39m patient_age\u001b[38;5;241m.\u001b[39mindex(max_age)\n\u001b[0;32m     15\u001b[0m patient_name \u001b[38;5;241m=\u001b[39m patient_age[location]\n",
      "\u001b[1;31mNameError\u001b[0m: name 'patient_age' is not defined"
     ]
    }
   ],
   "source": [
    "class Patient():\n",
    "    def __init__(self, last_name, first_name, age):\n",
    "        self.last_name = last_name\n",
    "        self.first_name = first_name\n",
    "        self.age = age\n",
    "#         print(self.last_name, self.first_name, age)\n",
    "        \n",
    "val1 = Patient(\"Waqar Un Nabi\", \"Syed\", 22)\n",
    "val2 = Patient(\"Khan\", \"Salman\", 30)\n",
    "val3 = Patient(\"Ali\", \"Hassan\", 35)\n",
    "\n",
    "print(val1.age,val2.age, val3.age)\n",
    "max_age = max(patient_age)\n",
    "location = patient_age.index(max_age)\n",
    "patient_name = patient_age[location]\n",
    "last_name = patient.last_name\n",
    "print(max_age, location)"
   ]
  },
  {
   "cell_type": "markdown",
   "id": "4ba5802f",
   "metadata": {},
   "source": [
    "51 to 59"
   ]
  },
  {
   "cell_type": "code",
   "execution_count": null,
   "id": "8c4d6b42",
   "metadata": {},
   "outputs": [],
   "source": []
  }
 ],
 "metadata": {
  "kernelspec": {
   "display_name": "Python 3 (ipykernel)",
   "language": "python",
   "name": "python3"
  },
  "language_info": {
   "codemirror_mode": {
    "name": "ipython",
    "version": 3
   },
   "file_extension": ".py",
   "mimetype": "text/x-python",
   "name": "python",
   "nbconvert_exporter": "python",
   "pygments_lexer": "ipython3",
   "version": "3.9.12"
  }
 },
 "nbformat": 4,
 "nbformat_minor": 5
}

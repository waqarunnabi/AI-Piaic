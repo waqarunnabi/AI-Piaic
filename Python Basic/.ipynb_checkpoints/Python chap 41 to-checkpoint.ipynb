{
 "cells": [
  {
   "cell_type": "markdown",
   "id": "f2dcc69b",
   "metadata": {},
   "source": [
    "# Functions"
   ]
  },
  {
   "cell_type": "code",
   "execution_count": 1,
   "id": "1999ce19",
   "metadata": {},
   "outputs": [],
   "source": [
    "a = \"\"\"A function is a block of Python code that robotically does the same thing again\n",
    "and again, whenever you invoke its name. It saves you repetitive coding and\n",
    "makes your code easier to understand.\n",
    "\"\"\""
   ]
  },
  {
   "cell_type": "code",
   "execution_count": 2,
   "id": "82859adf",
   "metadata": {},
   "outputs": [
    {
     "name": "stdout",
     "output_type": "stream",
     "text": [
      "34 ['A', 'function', 'is', 'a', 'block', 'of', 'Python', 'code', 'that', 'robotically', 'does', 'the', 'same', 'thing', 'again', 'and', 'again,', 'whenever', 'you', 'invoke', 'its', 'name.', 'It', 'saves', 'you', 'repetitive', 'coding', 'and', 'makes', 'your', 'code', 'easier', 'to', 'understand.']\n",
      "True\n"
     ]
    }
   ],
   "source": [
    "word_list = a.split()\n",
    "print(len(word_list), word_list)\n",
    "print('function' in word_list)"
   ]
  },
  {
   "cell_type": "code",
   "execution_count": 9,
   "id": "4126fd99",
   "metadata": {},
   "outputs": [
    {
     "name": "stdout",
     "output_type": "stream",
     "text": [
      "5\n"
     ]
    }
   ],
   "source": [
    "def add_num():\n",
    "    num1 = 2\n",
    "    num2 = 3\n",
    "    total = num1 + num2\n",
    "    print(total)\n",
    "    \n",
    "add_num()"
   ]
  },
  {
   "cell_type": "code",
   "execution_count": 8,
   "id": "db32ea87",
   "metadata": {},
   "outputs": [
    {
     "name": "stdout",
     "output_type": "stream",
     "text": [
      "5\n"
     ]
    }
   ],
   "source": [
    "add_num()"
   ]
  },
  {
   "cell_type": "markdown",
   "id": "4499aab2",
   "metadata": {},
   "source": [
    "positional arguments"
   ]
  },
  {
   "cell_type": "code",
   "execution_count": 10,
   "id": "f9b1d068",
   "metadata": {},
   "outputs": [
    {
     "name": "stdout",
     "output_type": "stream",
     "text": [
      "9\n"
     ]
    }
   ],
   "source": [
    "def add_num2(num1, num2):\n",
    "    total = num1 + num2\n",
    "    print(total)\n",
    "    \n",
    "add_num2(4,5)"
   ]
  },
  {
   "cell_type": "markdown",
   "id": "e139af56",
   "metadata": {},
   "source": [
    "Assigning a default value to\n",
    "a parameter"
   ]
  },
  {
   "cell_type": "code",
   "execution_count": 18,
   "id": "120500ba",
   "metadata": {},
   "outputs": [
    {
     "name": "stdout",
     "output_type": "stream",
     "text": [
      "10000\n"
     ]
    }
   ],
   "source": [
    "def calc_tax(sales, tax_rate=2):\n",
    "    print(sales * tax_rate)\n",
    "calc_tax(5000)"
   ]
  },
  {
   "cell_type": "code",
   "execution_count": 20,
   "id": "a1ee1a96",
   "metadata": {},
   "outputs": [
    {
     "name": "stdout",
     "output_type": "stream",
     "text": [
      "15000\n"
     ]
    }
   ],
   "source": [
    "calc_tax(5000,3)"
   ]
  },
  {
   "cell_type": "markdown",
   "id": "0cd615fb",
   "metadata": {},
   "source": [
    "Note: Only keyword parameters can have a default value. Positional\n",
    "parameters can't."
   ]
  },
  {
   "cell_type": "code",
   "execution_count": 40,
   "id": "431f722d",
   "metadata": {},
   "outputs": [
    {
     "name": "stdout",
     "output_type": "stream",
     "text": [
      "Ann\n",
      "{'first name': 'Ann', 'last name': 'Sattermyer', 'address': 'PO Box 1145'}\n"
     ]
    }
   ],
   "source": [
    "customers = {\n",
    "    0: {\n",
    "        \"first name\":\"John\",\n",
    "        \"last name\": \"Ogden\",\n",
    "        \"address\": \"301 Arbor Rd.\",\n",
    "    },\n",
    "    1: {\n",
    "        \"first name\":\"Ann\",\n",
    "        \"last name\": \"Sattermyer\",\n",
    "        \"address\": \"PO Box 1145\",\n",
    "    },\n",
    "    2: {\n",
    "        \"first name\":\"Jill\",\n",
    "        \"last name\": \"Somers\",\n",
    "        \"address\": \"3 Main St.\",\n",
    "    },\n",
    "}\n",
    "def find_something(dict, inner_dict, target):\n",
    "    data = dict[inner_dict]\n",
    "    print(data[target])\n",
    "    print(dict[inner_dict][target])\n",
    "    \n",
    "    \n",
    "find_something(customers, 1, \"first name\")\n"
   ]
  },
  {
   "cell_type": "code",
   "execution_count": 30,
   "id": "8c938de1",
   "metadata": {},
   "outputs": [
    {
     "name": "stdout",
     "output_type": "stream",
     "text": [
      "Sattermyer\n"
     ]
    }
   ],
   "source": [
    "def find_something(dict, inner_dict, target):\n",
    "    print(dict[inner_dict][target])\n",
    "\n",
    "find_something(customers, 1, \"last name\")"
   ]
  },
  {
   "cell_type": "markdown",
   "id": "1e07b10d",
   "metadata": {},
   "source": [
    "one * for list\n",
    "two * for dict"
   ]
  },
  {
   "cell_type": "code",
   "execution_count": 41,
   "id": "4baadee7",
   "metadata": {},
   "outputs": [
    {
     "name": "stdout",
     "output_type": "stream",
     "text": [
      "100\n",
      "200\n",
      "(300, 400, 500)\n"
     ]
    }
   ],
   "source": [
    "def display_nums(first_num, second_num,\n",
    "*opt_nums):\n",
    "    print(first_num)\n",
    "    print(second_num)\n",
    "    print(opt_nums)\n",
    "    \n",
    "display_nums(100, 200, 300, 400, 500)\n",
    "\n"
   ]
  },
  {
   "cell_type": "code",
   "execution_count": 49,
   "id": "15acb380",
   "metadata": {},
   "outputs": [
    {
     "name": "stdout",
     "output_type": "stream",
     "text": [
      "10000\n",
      "2000\n",
      "{'other_benifits': 4000, 'bonus': 1000}\n",
      "10000\n",
      "2000\n",
      "{'other_benifits': 4000}\n",
      "10000\n",
      "2000\n",
      "{}\n"
     ]
    }
   ],
   "source": [
    "def display_nums2(basic_salary, house_rent,\n",
    "**other_benifits):\n",
    "    print(basic_salary)\n",
    "    print(house_rent)\n",
    "    print(other_benifits)\n",
    "    \n",
    "display_nums2(10000, 2000, other_benifits=4000, bonus=1000)\n",
    "display_nums2(10000, 2000, other_benifits=4000)\n",
    "display_nums2(10000, 2000)"
   ]
  },
  {
   "cell_type": "code",
   "execution_count": 50,
   "id": "2001c7d2",
   "metadata": {},
   "outputs": [
    {
     "data": {
      "text/plain": [
       "10000"
      ]
     },
     "execution_count": 50,
     "metadata": {},
     "output_type": "execute_result"
    }
   ],
   "source": [
    "def calc_tax(sales, tax_rate=2):\n",
    "    tax = sales * tax_rate\n",
    "    return tax\n",
    "calc_tax(5000)"
   ]
  },
  {
   "cell_type": "markdown",
   "id": "cad91289",
   "metadata": {},
   "source": [
    "page no 142 139 136 132 129 144"
   ]
  },
  {
   "cell_type": "markdown",
   "id": "f94f9519",
   "metadata": {},
   "source": [
    "Functions: Local vs. global variables"
   ]
  },
  {
   "cell_type": "code",
   "execution_count": null,
   "id": "46219a4d",
   "metadata": {},
   "outputs": [],
   "source": []
  }
 ],
 "metadata": {
  "kernelspec": {
   "display_name": "Python 3 (ipykernel)",
   "language": "python",
   "name": "python3"
  },
  "language_info": {
   "codemirror_mode": {
    "name": "ipython",
    "version": 3
   },
   "file_extension": ".py",
   "mimetype": "text/x-python",
   "name": "python",
   "nbconvert_exporter": "python",
   "pygments_lexer": "ipython3",
   "version": "3.9.12"
  }
 },
 "nbformat": 4,
 "nbformat_minor": 5
}

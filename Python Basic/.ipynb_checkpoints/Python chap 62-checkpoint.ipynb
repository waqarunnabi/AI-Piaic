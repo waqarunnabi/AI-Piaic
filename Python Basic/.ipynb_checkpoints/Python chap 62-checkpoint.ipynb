{
 "cells": [
  {
   "cell_type": "markdown",
   "id": "9ed2554e",
   "metadata": {},
   "source": [
    "# Data files"
   ]
  },
  {
   "cell_type": "markdown",
   "id": "0883f550",
   "metadata": {},
   "source": [
    "### file system in python \n",
    "### reading and writing files \n",
    "### writting : append mode and overwriting mode \n",
    "### sequencial file : read each line from start to end \n",
    "### need a line terminater \n",
    "### direct or random mode "
   ]
  },
  {
   "cell_type": "code",
   "execution_count": 7,
   "id": "865935b0",
   "metadata": {},
   "outputs": [
    {
     "name": "stdout",
     "output_type": "stream",
     "text": [
      " Volume in drive C has no label.\n",
      " Volume Serial Number is 8C2A-28D3\n",
      "\n",
      " Directory of C:\\Users\\DELL\\Documents\\GitHub\\AI-Piaic\\Python Basic\n",
      "\n"
     ]
    },
    {
     "name": "stderr",
     "output_type": "stream",
     "text": [
      "File Not Found\n"
     ]
    }
   ],
   "source": [
    "ls -haltr"
   ]
  },
  {
   "cell_type": "code",
   "execution_count": 8,
   "id": "67e1f1cb",
   "metadata": {},
   "outputs": [
    {
     "name": "stdout",
     "output_type": "stream",
     "text": [
      " Volume in drive C has no label.\n",
      " Volume Serial Number is 8C2A-28D3\n",
      "\n",
      " Directory of C:\\Users\\DELL\\Documents\\GitHub\\AI-Piaic\\Python Basic\n",
      "\n",
      "09/18/2022  11:22 AM    <DIR>          .\n",
      "09/18/2022  11:22 AM    <DIR>          ..\n",
      "09/18/2022  11:00 AM    <DIR>          .ipynb_checkpoints\n",
      "08/26/2022  03:21 AM            15,980 Grand-Assignment-IOT049402-Batch36.ipynb\n",
      "07/02/2022  01:14 AM             1,958 Introduction.ipynb\n",
      "08/14/2022  11:29 AM            26,923 PIAIC_-_UIT_-_Batch_36.ipynb\n",
      "08/28/2022  10:19 AM            39,941 Python chap 21 to 40.ipynb\n",
      "09/11/2022  09:24 AM            18,355 Python chap 41 to 50.ipynb\n",
      "09/18/2022  10:59 AM            22,475 Python chap 51 to 61.ipynb\n",
      "09/18/2022  11:22 AM             2,454 Python chap 62.ipynb\n",
      "07/03/2022  11:42 AM            12,690 Python chp 1 to 10.ipynb\n",
      "08/14/2022  11:36 AM            17,625 Python chp 11 to 20.ipynb\n",
      "               9 File(s)        158,401 bytes\n",
      "               3 Dir(s)  67,611,709,440 bytes free\n"
     ]
    }
   ],
   "source": [
    "ls"
   ]
  },
  {
   "cell_type": "code",
   "execution_count": 5,
   "id": "8fc78c6e",
   "metadata": {},
   "outputs": [
    {
     "name": "stdout",
     "output_type": "stream",
     "text": [
      " Volume in drive C has no label.\n",
      " Volume Serial Number is 8C2A-28D3\n",
      "\n",
      " Directory of C:\\Users\\DELL\\Documents\\GitHub\\AI-Piaic\\Python Basic\n",
      "\n",
      "09/18/2022  11:32 AM    <DIR>          .\n",
      "09/18/2022  11:32 AM    <DIR>          ..\n",
      "09/18/2022  11:00 AM    <DIR>          .ipynb_checkpoints\n",
      "08/26/2022  03:21 AM            15,980 Grand-Assignment-IOT049402-Batch36.ipynb\n",
      "07/02/2022  01:14 AM             1,958 Introduction.ipynb\n",
      "08/14/2022  11:29 AM            26,923 PIAIC_-_UIT_-_Batch_36.ipynb\n",
      "08/28/2022  10:19 AM            39,941 Python chap 21 to 40.ipynb\n",
      "09/11/2022  09:24 AM            18,355 Python chap 41 to 50.ipynb\n",
      "09/18/2022  10:59 AM            22,475 Python chap 51 to 61.ipynb\n",
      "09/18/2022  11:32 AM             4,313 Python chap 62.ipynb\n",
      "07/03/2022  11:42 AM            12,690 Python chp 1 to 10.ipynb\n",
      "08/14/2022  11:36 AM            17,625 Python chp 11 to 20.ipynb\n",
      "09/18/2022  11:31 AM               243 whatever.txt\n",
      "              10 File(s)        160,503 bytes\n",
      "               3 Dir(s)  67,565,015,040 bytes free\n"
     ]
    }
   ],
   "source": [
    "!dir"
   ]
  },
  {
   "cell_type": "code",
   "execution_count": 2,
   "id": "379a4199",
   "metadata": {},
   "outputs": [],
   "source": [
    "with open(\"whatever.txt\", \"w\") as file_to_work_with:\n",
    "    # file_to_work is called file_handle\n",
    "    file_to_work_with.write(\"Hello Wolrd\")\n",
    "    # fill will close automatically here"
   ]
  },
  {
   "cell_type": "code",
   "execution_count": 3,
   "id": "053ba20c",
   "metadata": {},
   "outputs": [],
   "source": [
    "gretings = \"\"\"\n",
    "In all the coding so far in this book, none of the data has been preserved. We\n",
    "created variables, lists, dictionaries, and class instances that contained\n",
    "information, but as soon as the computer was turned off, all of it disappeared.\n",
    "\"\"\"\n",
    "\n",
    "with open(\"whatever.txt\", \"w\") as file_to_work_with:\n",
    "    \n",
    "    file_to_work_with.write(gretings)"
   ]
  },
  {
   "cell_type": "code",
   "execution_count": 10,
   "id": "8ef14591",
   "metadata": {},
   "outputs": [
    {
     "name": "stdout",
     "output_type": "stream",
     "text": [
      "\n",
      "In all the coding so far in this book, none of the data has been preserved. We\n",
      "created variables, lists, dictionaries, and class instances that contained\n",
      "information, but as soon as the computer was turned off, all of it disappeared.\n",
      "\n",
      "\n",
      "\n"
     ]
    }
   ],
   "source": [
    "with open(\"whatever.txt\", \"r\") as file_to_work_with:\n",
    "    text_of_file = file_to_work_with.read()\n",
    "    print(text_of_file)"
   ]
  },
  {
   "cell_type": "code",
   "execution_count": 9,
   "id": "7f2a3bb7",
   "metadata": {},
   "outputs": [
    {
     "name": "stdout",
     "output_type": "stream",
     "text": [
      "\n",
      "In all the coding so far in this book, none of the data has been preserved. We\n",
      "created variables, lists, dictionaries, and class instances that contained\n",
      "information, but as soon as the computer was turned off, all of it disappeared.\n",
      "\n",
      "\n",
      "\n",
      "['In', 'all', 'the', 'coding', 'so', 'far', 'in', 'this', 'book,', 'none', 'of', 'the', 'data', 'has', 'been', 'preserved.', 'We', 'created', 'variables,', 'lists,', 'dictionaries,', 'and', 'class', 'instances', 'that', 'contained', 'information,', 'but', 'as', 'soon', 'as', 'the', 'computer', 'was', 'turned', 'off,', 'all', 'of', 'it', 'disappeared.']\n"
     ]
    }
   ],
   "source": [
    "with open(\"whatever.txt\", \"r\") as file_to_work_with:\n",
    "    text_of_file = file_to_work_with.read()\n",
    "    print(text_of_file)\n",
    "    lines = text_of_file.split()\n",
    "    print(lines)"
   ]
  },
  {
   "cell_type": "code",
   "execution_count": 11,
   "id": "2ac05444",
   "metadata": {},
   "outputs": [
    {
     "name": "stdout",
     "output_type": "stream",
     "text": [
      "\n",
      "In all the coding so far in this book, none of the data has been preserved. We\n",
      "created variables, lists, dictionaries, and class instances that contained\n",
      "information, but as soon as the computer was turned off, all of it disappeared.\n",
      "\n",
      "\n",
      "\n",
      "line: 0 counter: In\n",
      "line: 1 counter: all\n",
      "line: 2 counter: the\n",
      "line: 3 counter: coding\n",
      "line: 4 counter: so\n",
      "line: 5 counter: far\n",
      "line: 6 counter: in\n",
      "line: 7 counter: this\n",
      "line: 8 counter: book,\n",
      "line: 9 counter: none\n",
      "line: 10 counter: of\n",
      "line: 11 counter: the\n",
      "line: 12 counter: data\n",
      "line: 13 counter: has\n",
      "line: 14 counter: been\n",
      "line: 15 counter: preserved.\n",
      "line: 16 counter: We\n",
      "line: 17 counter: created\n",
      "line: 18 counter: variables,\n",
      "line: 19 counter: lists,\n",
      "line: 20 counter: dictionaries,\n",
      "line: 21 counter: and\n",
      "line: 22 counter: class\n",
      "line: 23 counter: instances\n",
      "line: 24 counter: that\n",
      "line: 25 counter: contained\n",
      "line: 26 counter: information,\n",
      "line: 27 counter: but\n",
      "line: 28 counter: as\n",
      "line: 29 counter: soon\n",
      "line: 30 counter: as\n",
      "line: 31 counter: the\n",
      "line: 32 counter: computer\n",
      "line: 33 counter: was\n",
      "line: 34 counter: turned\n",
      "line: 35 counter: off,\n",
      "line: 36 counter: all\n",
      "line: 37 counter: of\n",
      "line: 38 counter: it\n",
      "line: 39 counter: disappeared.\n"
     ]
    }
   ],
   "source": [
    "with open(\"whatever.txt\", \"r\") as file_to_work_with:\n",
    "    text_of_file = file_to_work_with.read()\n",
    "    print(text_of_file)\n",
    "    lines = text_of_file.split()\n",
    "    for counter, line in enumerate(lines):\n",
    "        print(\"line:\", counter,\"counter:\",line)"
   ]
  },
  {
   "cell_type": "code",
   "execution_count": null,
   "id": "4bbd00bc",
   "metadata": {},
   "outputs": [],
   "source": []
  }
 ],
 "metadata": {
  "kernelspec": {
   "display_name": "Python 3 (ipykernel)",
   "language": "python",
   "name": "python3"
  },
  "language_info": {
   "codemirror_mode": {
    "name": "ipython",
    "version": 3
   },
   "file_extension": ".py",
   "mimetype": "text/x-python",
   "name": "python",
   "nbconvert_exporter": "python",
   "pygments_lexer": "ipython3",
   "version": "3.9.12"
  }
 },
 "nbformat": 4,
 "nbformat_minor": 5
}

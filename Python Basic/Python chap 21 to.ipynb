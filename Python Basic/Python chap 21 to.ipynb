{
 "cells": [
  {
   "cell_type": "markdown",
   "id": "efceb2a2",
   "metadata": {},
   "source": [
    "# 21. for loops"
   ]
  },
  {
   "cell_type": "code",
   "execution_count": 1,
   "id": "417ec47f",
   "metadata": {},
   "outputs": [],
   "source": [
    "pk_temp = (10, 20, 30)"
   ]
  },
  {
   "cell_type": "code",
   "execution_count": 2,
   "id": "4320f2c6",
   "metadata": {},
   "outputs": [
    {
     "name": "stdout",
     "output_type": "stream",
     "text": [
      "10\n",
      "20\n",
      "30\n"
     ]
    }
   ],
   "source": [
    "for i in pk_temp:\n",
    "    print(i)"
   ]
  },
  {
   "cell_type": "code",
   "execution_count": 4,
   "id": "c5c245a4",
   "metadata": {},
   "outputs": [
    {
     "name": "stdout",
     "output_type": "stream",
     "text": [
      "-10\n"
     ]
    }
   ],
   "source": [
    "numbers = [10, 20, 300, -1, 2, 200, -10]\n",
    "min_val = numbers[0]\n",
    "for val in numbers:\n",
    "    if val < min_val:\n",
    "        min_val = val\n",
    "        \n",
    "print(min_val)"
   ]
  },
  {
   "cell_type": "code",
   "execution_count": 5,
   "id": "ffeecb58",
   "metadata": {},
   "outputs": [
    {
     "name": "stdout",
     "output_type": "stream",
     "text": [
      "10\n"
     ]
    }
   ],
   "source": [
    "numbers = [10, 20, 300, -1, 2, 200, -10]\n",
    "min_val = numbers[0]\n",
    "for val in numbers[0:2]:\n",
    "    if val < min_val:\n",
    "        min_val = val\n",
    "        \n",
    "print(min_val)"
   ]
  },
  {
   "cell_type": "code",
   "execution_count": 6,
   "id": "d3874451",
   "metadata": {},
   "outputs": [],
   "source": [
    "# maximum\n",
    "# Average\n",
    "# konsi value kitni bar ae hai\n",
    "# binary to decimale"
   ]
  },
  {
   "cell_type": "markdown",
   "id": "972ea802",
   "metadata": {},
   "source": [
    "## Class 5"
   ]
  },
  {
   "cell_type": "markdown",
   "id": "39cedfcc",
   "metadata": {},
   "source": [
    "Tasks"
   ]
  },
  {
   "cell_type": "code",
   "execution_count": 56,
   "id": "0b0029cb",
   "metadata": {},
   "outputs": [
    {
     "data": {
      "text/plain": [
       "['A', 'A', 'A', 'B', 'C', 'A', 'D', 'D', 'E']"
      ]
     },
     "execution_count": 56,
     "metadata": {},
     "output_type": "execute_result"
    }
   ],
   "source": [
    "var = ['A', 'A', 'A', 'B', 'C', 'A', 'D', 'D' ,'E']\n",
    "var\n"
   ]
  },
  {
   "cell_type": "code",
   "execution_count": 19,
   "id": "f9cd0525",
   "metadata": {},
   "outputs": [],
   "source": [
    "var1 = var[:3] # var[0:3]\n",
    "var2 = var[3:6]\n",
    "var3 = var[6:] # var[6:9]"
   ]
  },
  {
   "cell_type": "code",
   "execution_count": 23,
   "id": "36ae5ecb",
   "metadata": {},
   "outputs": [
    {
     "data": {
      "text/plain": [
       "['A', 'A', 'A']"
      ]
     },
     "execution_count": 23,
     "metadata": {},
     "output_type": "execute_result"
    }
   ],
   "source": [
    "var1"
   ]
  },
  {
   "cell_type": "code",
   "execution_count": 24,
   "id": "06643d63",
   "metadata": {},
   "outputs": [
    {
     "data": {
      "text/plain": [
       "['B', 'C', 'A']"
      ]
     },
     "execution_count": 24,
     "metadata": {},
     "output_type": "execute_result"
    }
   ],
   "source": [
    "var2"
   ]
  },
  {
   "cell_type": "code",
   "execution_count": 25,
   "id": "43536b5c",
   "metadata": {},
   "outputs": [
    {
     "data": {
      "text/plain": [
       "['D', 'D', 'E']"
      ]
     },
     "execution_count": 25,
     "metadata": {},
     "output_type": "execute_result"
    }
   ],
   "source": [
    "var3"
   ]
  },
  {
   "cell_type": "code",
   "execution_count": 32,
   "id": "f73df35a",
   "metadata": {},
   "outputs": [],
   "source": [
    "var4 = var[:5]\n",
    "var5 = var[5:]"
   ]
  },
  {
   "cell_type": "code",
   "execution_count": 30,
   "id": "26485ea7",
   "metadata": {},
   "outputs": [
    {
     "data": {
      "text/plain": [
       "['A', 'A', 'A', 'B', 'C']"
      ]
     },
     "execution_count": 30,
     "metadata": {},
     "output_type": "execute_result"
    }
   ],
   "source": [
    "var4"
   ]
  },
  {
   "cell_type": "code",
   "execution_count": 33,
   "id": "7911468c",
   "metadata": {},
   "outputs": [
    {
     "data": {
      "text/plain": [
       "['A', 'D', 'D', 'E']"
      ]
     },
     "execution_count": 33,
     "metadata": {},
     "output_type": "execute_result"
    }
   ],
   "source": [
    "var5"
   ]
  },
  {
   "cell_type": "code",
   "execution_count": 37,
   "id": "80328135",
   "metadata": {},
   "outputs": [
    {
     "data": {
      "text/plain": [
       "['A', 'A', 'A', 'B', 'C']"
      ]
     },
     "execution_count": 37,
     "metadata": {},
     "output_type": "execute_result"
    }
   ],
   "source": [
    "v = 5\n",
    "var[:v]"
   ]
  },
  {
   "cell_type": "code",
   "execution_count": 51,
   "id": "6010c2d3",
   "metadata": {},
   "outputs": [
    {
     "name": "stdout",
     "output_type": "stream",
     "text": [
      "[1, 2, 3]\n",
      "(1, 2, 3)\n"
     ]
    }
   ],
   "source": [
    "x = [1,2,3]\n",
    "y = tuple(x)\n",
    "print(x)\n",
    "print(y)"
   ]
  },
  {
   "cell_type": "code",
   "execution_count": 52,
   "id": "cd074ab9",
   "metadata": {},
   "outputs": [
    {
     "data": {
      "text/plain": [
       "list"
      ]
     },
     "execution_count": 52,
     "metadata": {},
     "output_type": "execute_result"
    }
   ],
   "source": [
    "type(x)"
   ]
  },
  {
   "cell_type": "code",
   "execution_count": 53,
   "id": "cdb5b35a",
   "metadata": {},
   "outputs": [
    {
     "name": "stdout",
     "output_type": "stream",
     "text": [
      "(1, 2, 3)\n",
      "[1, 2, 3]\n"
     ]
    }
   ],
   "source": [
    "x = (1,2,3)\n",
    "y = list(x)\n",
    "print(x)\n",
    "print(y)"
   ]
  },
  {
   "cell_type": "code",
   "execution_count": 54,
   "id": "fdd233bd",
   "metadata": {},
   "outputs": [
    {
     "data": {
      "text/plain": [
       "tuple"
      ]
     },
     "execution_count": 54,
     "metadata": {},
     "output_type": "execute_result"
    }
   ],
   "source": [
    "type(x)"
   ]
  },
  {
   "cell_type": "code",
   "execution_count": 60,
   "id": "35012075",
   "metadata": {},
   "outputs": [
    {
     "data": {
      "text/plain": [
       "['A', 'A', 'A', 'B', 'C', 'A', 'D', 'D', 'E']"
      ]
     },
     "execution_count": 60,
     "metadata": {},
     "output_type": "execute_result"
    }
   ],
   "source": [
    "var = ['A', 'A', 'A', 'B', 'C', 'A', 'D', 'D' ,'E']\n",
    "var"
   ]
  },
  {
   "cell_type": "code",
   "execution_count": 133,
   "id": "e6dde3d5",
   "metadata": {},
   "outputs": [
    {
     "data": {
      "text/plain": [
       "['A', 'A', 'A', 'B', 'C', 'A', 'D', 'D', 'E']"
      ]
     },
     "execution_count": 133,
     "metadata": {},
     "output_type": "execute_result"
    }
   ],
   "source": [
    "val1 = []\n",
    "for v in var:\n",
    "    # print(v)\n",
    "    val1.append(v)\n",
    "val1"
   ]
  },
  {
   "cell_type": "code",
   "execution_count": 134,
   "id": "5faacf06",
   "metadata": {},
   "outputs": [
    {
     "data": {
      "text/plain": [
       "['A', 'A', 'A', 'B', 'C', 'A', 'D', 'D', 'E']"
      ]
     },
     "execution_count": 134,
     "metadata": {},
     "output_type": "execute_result"
    }
   ],
   "source": [
    "val1"
   ]
  },
  {
   "cell_type": "markdown",
   "id": "ae80ebc1",
   "metadata": {},
   "source": [
    "# 21. for loops\n"
   ]
  },
  {
   "cell_type": "code",
   "execution_count": 84,
   "id": "04a330cc",
   "metadata": {},
   "outputs": [],
   "source": [
    "city_to_check = \"Tucson\"\n",
    "\n",
    "cleanest_cities = [\"Cheyenne\", \"Santa Fe\", \"Tucson\",\n",
    "\"Great Falls\", \"Honolulu\"]\n"
   ]
  },
  {
   "cell_type": "code",
   "execution_count": 85,
   "id": "ca9802d4",
   "metadata": {},
   "outputs": [
    {
     "name": "stdout",
     "output_type": "stream",
     "text": [
      "It's one of the cleanest cities\n"
     ]
    }
   ],
   "source": [
    "for clean_city in cleanest_cities:\n",
    "    if city_to_check == clean_city:\n",
    "        print(\"It's one of the cleanest cities\")\n"
   ]
  },
  {
   "cell_type": "markdown",
   "id": "f76b3064",
   "metadata": {},
   "source": [
    "In the course of comparing the city in question against the list of clean cities,\n",
    "if Python finds a match, there's no point in continuing the loop. So you stop the\n",
    "loop by adding a break statement:"
   ]
  },
  {
   "cell_type": "code",
   "execution_count": 86,
   "id": "4aadcd85",
   "metadata": {},
   "outputs": [
    {
     "name": "stdout",
     "output_type": "stream",
     "text": [
      "It's one of the cleanest cities\n"
     ]
    }
   ],
   "source": [
    "for clean_city in cleanest_cities:\n",
    "    if city_to_check == clean_city:\n",
    "        print(\"It's one of the cleanest cities\")\n",
    "        break"
   ]
  },
  {
   "cell_type": "markdown",
   "id": "f3ceaf04",
   "metadata": {},
   "source": [
    "Assinment \\\n",
    "make a list of 10 cities from pakistan \\\n",
    "and identify which city contain 'K' in its name"
   ]
  },
  {
   "cell_type": "code",
   "execution_count": 120,
   "id": "89dc9acc",
   "metadata": {},
   "outputs": [
    {
     "name": "stdout",
     "output_type": "stream",
     "text": [
      "contain k alphabet in cit karachi\n",
      "Not Found k alphabet in city islamabad\n",
      "Not Found k alphabet in city rawalpindi\n",
      "Not Found k alphabet in city lahore\n",
      "Not Found k alphabet in city faislabad\n",
      "Not Found k alphabet in city multan\n",
      "contain k alphabet in cit larkana\n",
      "Not Found k alphabet in city quetta\n",
      "Not Found k alphabet in city peshawar\n",
      "Not Found k alphabet in city bawalput\n"
     ]
    }
   ],
   "source": [
    "pakistan_cities = [\"karachi\", \"islamabad\", \"rawalpindi\", \"lahore\", \"faislabad\", \n",
    "                   \"multan\", \"larkana\", \"quetta\", \"peshawar\",\"bawalput\"]\n",
    "for cities in pakistan_cities:\n",
    "    if 'k' in cities:\n",
    "        print(\"contain k alphabet in cit \" + cities)      \n",
    "    else:\n",
    "        print(\"Not Found k alphabet in city \" + cities)"
   ]
  },
  {
   "cell_type": "code",
   "execution_count": 118,
   "id": "ed118238",
   "metadata": {},
   "outputs": [
    {
     "name": "stdout",
     "output_type": "stream",
     "text": [
      "contain i alphabet in this city karachi\n",
      "contain i alphabet in this city islamabad\n",
      "contain i alphabet in this city rawalpindi\n",
      "contain i alphabet in this city faislabad\n"
     ]
    }
   ],
   "source": [
    " pakistan_cities = [\"karachi\", \"islamabad\", \"rawalpindi\", \"lahore\", \"faislabad\", \n",
    "                   \"multan\", \"larkana\", \"quetta\", \"peshawar\",\"bawalput\"]\n",
    "not_found_cities = []\n",
    "for cities in pakistan_cities:\n",
    "    if 'i' in cities:\n",
    "        print(\"contain i alphabet in this city \" + cities)      \n",
    "    else:\n",
    "        not_found_cities.append(cities)"
   ]
  },
  {
   "cell_type": "code",
   "execution_count": 117,
   "id": "00f70233",
   "metadata": {},
   "outputs": [
    {
     "data": {
      "text/plain": [
       "['lahore', 'multan', 'larkana', 'quetta', 'peshawar', 'bawalput']"
      ]
     },
     "execution_count": 117,
     "metadata": {},
     "output_type": "execute_result"
    }
   ],
   "source": [
    "not_found_cities"
   ]
  },
  {
   "cell_type": "code",
   "execution_count": 9,
   "id": "02078d29",
   "metadata": {},
   "outputs": [
    {
     "name": "stdout",
     "output_type": "stream",
     "text": [
      "Which Charactor Name you want to check? Please Enter i\n",
      "Names with contain i Charactor ali\n",
      "Names with contain i Charactor hussain\n",
      "Names with contain i Charactor qasim\n",
      "Names with contain i Charactor nizam\n",
      "Not found name with i Charactor \n"
     ]
    }
   ],
   "source": [
    "people_names = [\"waqar\", \"waqas\", 'ali', 'hassan', 'hussain', 'qasim', 'mehar', 'nizam', 'umer', 'usman']\n",
    "alpha = input(\"Which Charactor Name you want to check? Please Enter \")\n",
    "for names in people_names:\n",
    "    if alpha in names:\n",
    "        print(\"Names with contain \" + alpha + \" Charactor \" + names)\n",
    "else:\n",
    "    print(\"Not found name with \" + alpha + \" Charactor \")"
   ]
  },
  {
   "cell_type": "code",
   "execution_count": 10,
   "id": "84d49db4",
   "metadata": {},
   "outputs": [
    {
     "name": "stdout",
     "output_type": "stream",
     "text": [
      "Which Charactor Name you want to check? Please Enter i\n",
      "Names with contain i Charactor ali\n"
     ]
    }
   ],
   "source": [
    "people_names = [\"waqar\", \"waqas\", 'ali', 'hassan', 'hussain', 'qasim', 'mehar', 'nizam', 'umer', 'usman']\n",
    "alpha = input(\"Which Charactor Name you want to check? Please Enter \")\n",
    "for names in people_names:\n",
    "    if alpha in names:\n",
    "        print(\"Names with contain \" + alpha + \" Charactor \" + names)\n",
    "        if alpha in names:\n",
    "            break\n",
    "else:\n",
    "    print(\"Not found name with \" + alpha + \" Charactor \")"
   ]
  },
  {
   "cell_type": "code",
   "execution_count": null,
   "id": "bec418e4",
   "metadata": {},
   "outputs": [],
   "source": []
  }
 ],
 "metadata": {
  "kernelspec": {
   "display_name": "Python 3 (ipykernel)",
   "language": "python",
   "name": "python3"
  },
  "language_info": {
   "codemirror_mode": {
    "name": "ipython",
    "version": 3
   },
   "file_extension": ".py",
   "mimetype": "text/x-python",
   "name": "python",
   "nbconvert_exporter": "python",
   "pygments_lexer": "ipython3",
   "version": "3.9.12"
  }
 },
 "nbformat": 4,
 "nbformat_minor": 5
}

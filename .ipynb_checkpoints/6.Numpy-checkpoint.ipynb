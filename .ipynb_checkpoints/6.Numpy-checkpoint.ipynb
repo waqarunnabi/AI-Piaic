{
 "cells": [
  {
   "cell_type": "markdown",
   "id": "db113fa1",
   "metadata": {},
   "source": [
    "# Numpy\n",
    "- NumPy is the fundamental package for scientific computing in Python. It is a Python library that provides a multidimensional array object, various derived objects (such as masked arrays and matrices), and an assortment of routines for fast operations on arrays, including mathematical, logical, shape manipulation, sorting, selecting, I/O, discrete Fourier transforms, basic linear algebra, basic statistical operations, random simulation and much more."
   ]
  },
  {
   "cell_type": "markdown",
   "id": "5cdac290",
   "metadata": {},
   "source": [
    "\n",
    "## Array\n",
    "- An Array is a central data structure of the NumPy Library.\n",
    "- An array is a grid of values and it contains information about the raw data, how to locate an element, and how to interpret an element.\n",
    "- It has a grid of elements that can be indexed in various ways.\n",
    "- The elements are all of the same type, referred to as the array dtype.\n",
    "- An array can be indexed by a anpother array, or by intergers."
   ]
  },
  {
   "cell_type": "markdown",
   "id": "466c4b24",
   "metadata": {},
   "source": [
    "### rank\n",
    "- The rank of the arry is the number of dimensions.\n",
    "\n",
    "### shape\n",
    "- The shape of the array is a tuple of intergers giving the size of the array along each dimension."
   ]
  },
  {
   "cell_type": "markdown",
   "id": "41facc4c",
   "metadata": {},
   "source": [
    "## Vector\n",
    "- A vector is an arry with a single dimension\n",
    "(there's no difference between row and column vectors)\n",
    "- 1-D"
   ]
  },
  {
   "cell_type": "code",
   "execution_count": 5,
   "id": "ef17773b",
   "metadata": {},
   "outputs": [
    {
     "data": {
      "text/plain": [
       "array([5, 5, 5, 5, 5])"
      ]
     },
     "execution_count": 5,
     "metadata": {},
     "output_type": "execute_result"
    }
   ],
   "source": [
    "import numpy as np\n",
    "a= np.array([5,5,5,5,5])\n",
    "a"
   ]
  },
  {
   "cell_type": "code",
   "execution_count": 19,
   "id": "2d53a3c9",
   "metadata": {},
   "outputs": [
    {
     "data": {
      "text/plain": [
       "numpy.ndarray"
      ]
     },
     "execution_count": 19,
     "metadata": {},
     "output_type": "execute_result"
    }
   ],
   "source": [
    "type(a)"
   ]
  },
  {
   "cell_type": "markdown",
   "id": "f6b3c41c",
   "metadata": {},
   "source": [
    "### The numpy ndarray class is used to represent both matrices and vectors."
   ]
  },
  {
   "cell_type": "markdown",
   "id": "cbf4d6af",
   "metadata": {},
   "source": [
    "## Matrix\n",
    "- A matrix refers to an array with two dimensions.\n",
    "- 2-D"
   ]
  },
  {
   "cell_type": "code",
   "execution_count": 21,
   "id": "e02a30aa",
   "metadata": {},
   "outputs": [
    {
     "data": {
      "text/plain": [
       "array([[5, 5, 5],\n",
       "       [4, 4, 4],\n",
       "       [6, 6, 6]])"
      ]
     },
     "execution_count": 21,
     "metadata": {},
     "output_type": "execute_result"
    }
   ],
   "source": [
    "import numpy as np\n",
    "b = np.array([[5,5,5],[4,4,4],[6,6,6]])\n",
    "b"
   ]
  },
  {
   "cell_type": "code",
   "execution_count": 22,
   "id": "bc5b3aa4",
   "metadata": {},
   "outputs": [
    {
     "data": {
      "text/plain": [
       "3"
      ]
     },
     "execution_count": 22,
     "metadata": {},
     "output_type": "execute_result"
    }
   ],
   "source": [
    "len(b)"
   ]
  },
  {
   "cell_type": "code",
   "execution_count": 23,
   "id": "00d4844f",
   "metadata": {},
   "outputs": [
    {
     "data": {
      "text/plain": [
       "array([5, 5, 5])"
      ]
     },
     "execution_count": 23,
     "metadata": {},
     "output_type": "execute_result"
    }
   ],
   "source": [
    "b[0]"
   ]
  },
  {
   "cell_type": "code",
   "execution_count": 24,
   "id": "92957535",
   "metadata": {},
   "outputs": [
    {
     "data": {
      "text/plain": [
       "array([[5, 5, 5],\n",
       "       [4, 4, 4],\n",
       "       [6, 6, 6]])"
      ]
     },
     "execution_count": 24,
     "metadata": {},
     "output_type": "execute_result"
    }
   ],
   "source": [
    "b[0:]"
   ]
  },
  {
   "cell_type": "code",
   "execution_count": 11,
   "id": "5024d150",
   "metadata": {},
   "outputs": [
    {
     "name": "stdout",
     "output_type": "stream",
     "text": [
      "1.20.3\n"
     ]
    }
   ],
   "source": [
    "print(np.__version__)"
   ]
  },
  {
   "cell_type": "code",
   "execution_count": 12,
   "id": "178ecf3d",
   "metadata": {},
   "outputs": [
    {
     "name": "stdout",
     "output_type": "stream",
     "text": [
      "[[[1 2 3]\n",
      "  [4 5 6]]\n",
      "\n",
      " [[1 2 3]\n",
      "  [4 5 6]]]\n"
     ]
    }
   ],
   "source": [
    "# import numpy as np\n",
    "\n",
    "# arr = np.array([[[1, 2, 3], [4, 5, 6]], [[1, 2, 3], [4, 5, 6]]])\n",
    "\n",
    "# print(arr)"
   ]
  },
  {
   "cell_type": "markdown",
   "id": "1047ccf8",
   "metadata": {},
   "source": [
    "## 3-D or Higher\n",
    "- For 3-D or higheer dimensional arrays, the term tensor is also commonly used"
   ]
  },
  {
   "cell_type": "markdown",
   "id": "b45deea2",
   "metadata": {},
   "source": [
    "##### TensorFlow is a free and open-source software liberary for machine leaning and artificial intelligence"
   ]
  },
  {
   "cell_type": "code",
   "execution_count": 25,
   "id": "30e2e7bb",
   "metadata": {},
   "outputs": [
    {
     "data": {
      "text/plain": [
       "array([[5, 5, 5],\n",
       "       [4, 4, 4]])"
      ]
     },
     "execution_count": 25,
     "metadata": {},
     "output_type": "execute_result"
    }
   ],
   "source": [
    "import numpy as np\n",
    "C = np.array([[5,5,5],[4,4,4]])\n",
    "C"
   ]
  },
  {
   "cell_type": "markdown",
   "id": "c55679ef",
   "metadata": {},
   "source": [
    "#### arry attributes:\n",
    "- Dimensions are called axis\n",
    "##### 2-axis\n",
    "- First axis has length=2\n",
    "- Second axis has length=3"
   ]
  },
  {
   "cell_type": "code",
   "execution_count": null,
   "id": "ec5744a6",
   "metadata": {},
   "outputs": [],
   "source": []
  },
  {
   "cell_type": "code",
   "execution_count": null,
   "id": "f551cfdb",
   "metadata": {},
   "outputs": [],
   "source": []
  }
 ],
 "metadata": {
  "kernelspec": {
   "display_name": "Python 3 (ipykernel)",
   "language": "python",
   "name": "python3"
  },
  "language_info": {
   "codemirror_mode": {
    "name": "ipython",
    "version": 3
   },
   "file_extension": ".py",
   "mimetype": "text/x-python",
   "name": "python",
   "nbconvert_exporter": "python",
   "pygments_lexer": "ipython3",
   "version": "3.9.7"
  }
 },
 "nbformat": 4,
 "nbformat_minor": 5
}

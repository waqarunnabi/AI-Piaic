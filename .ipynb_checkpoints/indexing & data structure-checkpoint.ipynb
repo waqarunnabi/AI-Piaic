{
 "cells": [
  {
   "cell_type": "code",
   "execution_count": 2,
   "id": "12bc3825",
   "metadata": {},
   "outputs": [],
   "source": [
    "a = \"samosa pakora\""
   ]
  },
  {
   "cell_type": "code",
   "execution_count": 3,
   "id": "660cf7fc",
   "metadata": {},
   "outputs": [
    {
     "data": {
      "text/plain": [
       "'samosa pakora'"
      ]
     },
     "execution_count": 3,
     "metadata": {},
     "output_type": "execute_result"
    }
   ],
   "source": [
    "a"
   ]
  },
  {
   "cell_type": "code",
   "execution_count": 4,
   "id": "ba6af867",
   "metadata": {},
   "outputs": [
    {
     "data": {
      "text/plain": [
       "'m'"
      ]
     },
     "execution_count": 4,
     "metadata": {},
     "output_type": "execute_result"
    }
   ],
   "source": [
    "a[2]"
   ]
  },
  {
   "cell_type": "code",
   "execution_count": 6,
   "id": "40c8245f",
   "metadata": {},
   "outputs": [
    {
     "data": {
      "text/plain": [
       "'mosa pakora'"
      ]
     },
     "execution_count": 6,
     "metadata": {},
     "output_type": "execute_result"
    }
   ],
   "source": [
    "a[2:]"
   ]
  },
  {
   "cell_type": "code",
   "execution_count": 8,
   "id": "bf1ffb9f",
   "metadata": {},
   "outputs": [
    {
     "data": {
      "text/plain": [
       "'SAMOSA PAKORA'"
      ]
     },
     "execution_count": 8,
     "metadata": {},
     "output_type": "execute_result"
    }
   ],
   "source": [
    "a.upper()"
   ]
  },
  {
   "cell_type": "code",
   "execution_count": 10,
   "id": "fa944a67",
   "metadata": {},
   "outputs": [
    {
     "data": {
      "text/plain": [
       "'samosa pakora'"
      ]
     },
     "execution_count": 10,
     "metadata": {},
     "output_type": "execute_result"
    }
   ],
   "source": [
    "a.lower()"
   ]
  },
  {
   "cell_type": "code",
   "execution_count": 16,
   "id": "2064ef45",
   "metadata": {},
   "outputs": [
    {
     "data": {
      "text/plain": [
       "'samasa pakara'"
      ]
     },
     "execution_count": 16,
     "metadata": {},
     "output_type": "execute_result"
    }
   ],
   "source": [
    "a.replace(\"o\",\"a\")"
   ]
  },
  {
   "cell_type": "code",
   "execution_count": 20,
   "id": "b14a9d54",
   "metadata": {},
   "outputs": [
    {
     "data": {
      "text/plain": [
       "'samosa pakora'"
      ]
     },
     "execution_count": 20,
     "metadata": {},
     "output_type": "execute_result"
    }
   ],
   "source": [
    "a.replace(a[3],\"o\")"
   ]
  },
  {
   "cell_type": "code",
   "execution_count": 21,
   "id": "a2e3b5ca",
   "metadata": {},
   "outputs": [
    {
     "data": {
      "text/plain": [
       "4"
      ]
     },
     "execution_count": 21,
     "metadata": {},
     "output_type": "execute_result"
    }
   ],
   "source": [
    "a.count(\"a\")"
   ]
  },
  {
   "cell_type": "code",
   "execution_count": 22,
   "id": "7d10c28b",
   "metadata": {},
   "outputs": [
    {
     "data": {
      "text/plain": [
       "3"
      ]
     },
     "execution_count": 22,
     "metadata": {},
     "output_type": "execute_result"
    }
   ],
   "source": [
    "a.find(\"o\")"
   ]
  },
  {
   "cell_type": "code",
   "execution_count": 25,
   "id": "56e924e3",
   "metadata": {},
   "outputs": [
    {
     "data": {
      "text/plain": [
       "['samosa', 'pakora']"
      ]
     },
     "execution_count": 25,
     "metadata": {},
     "output_type": "execute_result"
    }
   ],
   "source": [
    "a.split()"
   ]
  },
  {
   "cell_type": "markdown",
   "id": "2cab9a09",
   "metadata": {},
   "source": [
    "# Basic Data Structure in Python\n",
    "## 1.Tuple\n",
    "## 2. List\n",
    "## 3. Dictionary\n",
    "## 4. Cell\n"
   ]
  },
  {
   "cell_type": "markdown",
   "id": "715a4a5a",
   "metadata": {},
   "source": [
    "# 1. Tuple\n",
    "## * Ordered collectio of elements\n",
    "## * Enclosed in () round braaces/paranthesis\n",
    "## * Different kind of elements can be stored\n",
    "## * Once elemts are stored you can not change them ()unmutables"
   ]
  },
  {
   "cell_type": "code",
   "execution_count": null,
   "id": "cc753d1c",
   "metadata": {},
   "outputs": [],
   "source": []
  },
  {
   "cell_type": "code",
   "execution_count": null,
   "id": "8a075f83",
   "metadata": {},
   "outputs": [],
   "source": []
  },
  {
   "cell_type": "code",
   "execution_count": null,
   "id": "51a93494",
   "metadata": {},
   "outputs": [],
   "source": []
  },
  {
   "cell_type": "code",
   "execution_count": null,
   "id": "1c9b21d8",
   "metadata": {},
   "outputs": [],
   "source": []
  },
  {
   "cell_type": "code",
   "execution_count": null,
   "id": "0cf0ad77",
   "metadata": {},
   "outputs": [],
   "source": []
  },
  {
   "cell_type": "code",
   "execution_count": null,
   "id": "d76e4384",
   "metadata": {},
   "outputs": [],
   "source": []
  },
  {
   "cell_type": "code",
   "execution_count": null,
   "id": "591ea948",
   "metadata": {},
   "outputs": [],
   "source": []
  },
  {
   "cell_type": "code",
   "execution_count": null,
   "id": "d9448a26",
   "metadata": {},
   "outputs": [],
   "source": []
  },
  {
   "cell_type": "code",
   "execution_count": null,
   "id": "a8a97b2f",
   "metadata": {},
   "outputs": [],
   "source": []
  }
 ],
 "metadata": {
  "kernelspec": {
   "display_name": "Python 3 (ipykernel)",
   "language": "python",
   "name": "python3"
  },
  "language_info": {
   "codemirror_mode": {
    "name": "ipython",
    "version": 3
   },
   "file_extension": ".py",
   "mimetype": "text/x-python",
   "name": "python",
   "nbconvert_exporter": "python",
   "pygments_lexer": "ipython3",
   "version": "3.9.7"
  }
 },
 "nbformat": 4,
 "nbformat_minor": 5
}

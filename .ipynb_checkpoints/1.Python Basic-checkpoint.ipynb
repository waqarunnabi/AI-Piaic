{
 "cells": [
  {
   "cell_type": "markdown",
   "id": "7381d813",
   "metadata": {},
   "source": [
    "# Python Practice"
   ]
  },
  {
   "cell_type": "code",
   "execution_count": 3,
   "id": "57c7efca",
   "metadata": {},
   "outputs": [
    {
     "name": "stdout",
     "output_type": "stream",
     "text": [
      "First Python Code\n"
     ]
    }
   ],
   "source": [
    "print(\"First Python Code\")"
   ]
  },
  {
   "cell_type": "code",
   "execution_count": 4,
   "id": "ab8fac06",
   "metadata": {},
   "outputs": [
    {
     "name": "stdout",
     "output_type": "stream",
     "text": [
      "What is ur age? 2\n",
      "False\n"
     ]
    }
   ],
   "source": [
    "age_at_schl=5\n",
    "ali_age=input(\"What is ur age? \")\n",
    "# ali_age=5\n",
    "# print(type(ali_age))\n",
    "ali_age=int(ali_age)\n",
    "print(ali_age==age_at_schl)"
   ]
  },
  {
   "cell_type": "markdown",
   "id": "02bf693c",
   "metadata": {},
   "source": [
    "# If else"
   ]
  },
  {
   "cell_type": "code",
   "execution_count": 7,
   "id": "99034879",
   "metadata": {},
   "outputs": [
    {
     "name": "stdout",
     "output_type": "stream",
     "text": [
      "Ur Age? 6\n",
      "You Should join High School\n"
     ]
    }
   ],
   "source": [
    "age_at_schl = 5\n",
    "ali_age =input(\"Ur Age? \")\n",
    "ali_age=int(ali_age)\n",
    "if age_at_schl==ali_age:\n",
    "    print(\"You Can join School\")\n",
    "elif ali_age > age_at_schl:\n",
    "    print(\"You Should join High School\")\n",
    "elif ali_age <= 2:\n",
    "    print(\"He is still a baby\") \n",
    "else:\n",
    "    print(\"you can not join the Schhol\")\n"
   ]
  },
  {
   "cell_type": "markdown",
   "id": "ccbf521c",
   "metadata": {},
   "source": [
    "# define function"
   ]
  },
  {
   "cell_type": "code",
   "execution_count": 8,
   "id": "fcfb6cf5",
   "metadata": {},
   "outputs": [
    {
     "name": "stdout",
     "output_type": "stream",
     "text": [
      "this is waqar\n",
      "this is waqar\n"
     ]
    }
   ],
   "source": [
    "def print_vk():\n",
    "    print(\"this is waqar\")\n",
    "\n",
    "print_vk()\n",
    "print_vk()"
   ]
  },
  {
   "cell_type": "code",
   "execution_count": 9,
   "id": "45a4b618",
   "metadata": {},
   "outputs": [
    {
     "name": "stdout",
     "output_type": "stream",
     "text": [
      "This is waqar\n"
     ]
    }
   ],
   "source": [
    "def print_wq():\n",
    "    text = \"This is waqar\"\n",
    "    print(text)\n",
    "\n",
    "print_wq()"
   ]
  },
  {
   "cell_type": "code",
   "execution_count": 10,
   "id": "4841a4ad",
   "metadata": {},
   "outputs": [
    {
     "name": "stdout",
     "output_type": "stream",
     "text": [
      "this is waqar\n"
     ]
    }
   ],
   "source": [
    "def print_wn(text):\n",
    "    print(text)\n",
    "\n",
    "print_wn(\"this is waqar\")"
   ]
  },
  {
   "cell_type": "code",
   "execution_count": 11,
   "id": "b5bcfdee",
   "metadata": {},
   "outputs": [
    {
     "name": "stdout",
     "output_type": "stream",
     "text": [
      "You should go to high school\n"
     ]
    }
   ],
   "source": [
    "def school_cal(age):\n",
    "    if age==5:\n",
    "        print(\"you can join the school\")\n",
    "    elif age>5:\n",
    "        print(\"You should go to high school\")\n",
    "    else:\n",
    "        print(\"You are still a baby\")\n",
    "\n",
    "school_cal(6)"
   ]
  },
  {
   "cell_type": "markdown",
   "id": "fa5553ef",
   "metadata": {},
   "source": [
    "## define a future function"
   ]
  },
  {
   "cell_type": "code",
   "execution_count": 12,
   "id": "2ed9ae83",
   "metadata": {},
   "outputs": [
    {
     "name": "stdout",
     "output_type": "stream",
     "text": [
      "38\n"
     ]
    }
   ],
   "source": [
    "def future_age(age):\n",
    "    new_age= age+20\n",
    "    return new_age\n",
    "    print(new_age)\n",
    "\n",
    "future_predicted_age = future_age(18)\n",
    "print(future_predicted_age)"
   ]
  },
  {
   "cell_type": "markdown",
   "id": "7f2473cd",
   "metadata": {},
   "source": [
    "# loops"
   ]
  },
  {
   "cell_type": "code",
   "execution_count": 13,
   "id": "c15b47b2",
   "metadata": {},
   "outputs": [
    {
     "name": "stdout",
     "output_type": "stream",
     "text": [
      "0\n",
      "1\n",
      "2\n",
      "3\n",
      "4\n",
      "5\n"
     ]
    }
   ],
   "source": [
    "# While loop\n",
    "x=0\n",
    "while (x<=5):\n",
    "    print(x)\n",
    "    x=x+1"
   ]
  },
  {
   "cell_type": "code",
   "execution_count": 14,
   "id": "171ab939",
   "metadata": {},
   "outputs": [
    {
     "name": "stdout",
     "output_type": "stream",
     "text": [
      "4\n",
      "5\n",
      "6\n",
      "7\n",
      "8\n",
      "9\n",
      "10\n"
     ]
    }
   ],
   "source": [
    "# For loop\n",
    "for x in range(4,11):\n",
    "    print(x)"
   ]
  },
  {
   "cell_type": "markdown",
   "id": "97268b09",
   "metadata": {},
   "source": [
    "# array"
   ]
  },
  {
   "cell_type": "code",
   "execution_count": 15,
   "id": "d1257b9a",
   "metadata": {},
   "outputs": [
    {
     "name": "stdout",
     "output_type": "stream",
     "text": [
      "mon\n",
      "tue\n",
      "wed\n",
      "thu\n",
      "sat\n",
      "sun\n"
     ]
    }
   ],
   "source": [
    "days = [\"mon\", \"tue\", \"wed\", \"thu\", \"fri\", \"sat\", \"sun\"]\n",
    "for d in days:\n",
    "    # if (d==\"fri\"):break\n",
    "    # or\n",
    "    if (d==\"fri\"): continue #skips d\n",
    "    print(d)"
   ]
  },
  {
   "cell_type": "markdown",
   "id": "00205e68",
   "metadata": {},
   "source": [
    "# Import libery"
   ]
  },
  {
   "cell_type": "code",
   "execution_count": 16,
   "id": "6f898599",
   "metadata": {},
   "outputs": [
    {
     "name": "stdout",
     "output_type": "stream",
     "text": [
      "the value of PI is  3.141592653589793\n"
     ]
    }
   ],
   "source": [
    "import math\n",
    "print(\"the value of PI is \", math.pi)"
   ]
  },
  {
   "cell_type": "code",
   "execution_count": 17,
   "id": "e11de4c7",
   "metadata": {},
   "outputs": [
    {
     "name": "stdout",
     "output_type": "stream",
     "text": [
      "300\n"
     ]
    }
   ],
   "source": [
    "import statistics\n",
    "x = [150,250,350,450]\n",
    "print(statistics.mean(x))"
   ]
  },
  {
   "cell_type": "markdown",
   "id": "cfc5b00e",
   "metadata": {},
   "source": [
    "## numpy, pandas etc"
   ]
  },
  {
   "cell_type": "markdown",
   "id": "e52a8631",
   "metadata": {},
   "source": [
    "# Trouble shooting"
   ]
  },
  {
   "cell_type": "code",
   "execution_count": 19,
   "id": "0c7819c8",
   "metadata": {},
   "outputs": [],
   "source": [
    "# print(\"slkadld ) #syntax error\n",
    "\n",
    "# print(25/0) #runtime error"
   ]
  },
  {
   "cell_type": "code",
   "execution_count": null,
   "id": "2f2ec6f4",
   "metadata": {},
   "outputs": [],
   "source": []
  },
  {
   "cell_type": "code",
   "execution_count": null,
   "id": "161d3d57",
   "metadata": {},
   "outputs": [],
   "source": []
  }
 ],
 "metadata": {
  "kernelspec": {
   "display_name": "Python 3 (ipykernel)",
   "language": "python",
   "name": "python3"
  },
  "language_info": {
   "codemirror_mode": {
    "name": "ipython",
    "version": 3
   },
   "file_extension": ".py",
   "mimetype": "text/x-python",
   "name": "python",
   "nbconvert_exporter": "python",
   "pygments_lexer": "ipython3",
   "version": "3.9.7"
  }
 },
 "nbformat": 4,
 "nbformat_minor": 5
}
